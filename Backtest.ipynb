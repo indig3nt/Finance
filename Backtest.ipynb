{
 "cells": [
  {
   "cell_type": "code",
   "execution_count": 23,
   "metadata": {},
   "outputs": [
    {
     "name": "stderr",
     "output_type": "stream",
     "text": [
      "[*********************100%%**********************]  1 of 1 completed\n"
     ]
    },
    {
     "name": "stdout",
     "output_type": "stream",
     "text": [
      "rsi_crossed_above   30.0                                                   \\\n",
      "ma_window             20                                                    \n",
      "ma_window             50     53     56     60     63     66     70     73   \n",
      "Date                                                                        \n",
      "2020-01-01         False  False  False  False  False  False  False  False   \n",
      "2020-01-02         False  False  False  False  False  False  False  False   \n",
      "2020-01-03         False  False  False  False  False  False  False  False   \n",
      "2020-01-04         False  False  False  False  False  False  False  False   \n",
      "2020-01-05         False  False  False  False  False  False  False  False   \n",
      "...                  ...    ...    ...    ...    ...    ...    ...    ...   \n",
      "2024-09-16         False  False  False  False  False  False  False  False   \n",
      "2024-09-17         False  False  False  False  False  False  False  False   \n",
      "2024-09-18         False  False  False  False  False  False  False  False   \n",
      "2024-09-19         False  False  False  False  False  False  False  False   \n",
      "2024-09-21         False  False  False  False  False  False  False  False   \n",
      "\n",
      "rsi_crossed_above                ...   45.0                              \\\n",
      "ma_window                        ...     50                               \n",
      "ma_window             76     80  ...     50     53     56     60     63   \n",
      "Date                             ...                                      \n",
      "2020-01-01         False  False  ...  False  False  False  False  False   \n",
      "2020-01-02         False  False  ...  False  False  False  False  False   \n",
      "2020-01-03         False  False  ...  False  False  False  False  False   \n",
      "2020-01-04         False  False  ...  False  False  False  False  False   \n",
      "2020-01-05         False  False  ...  False  False  False  False  False   \n",
      "...                  ...    ...  ...    ...    ...    ...    ...    ...   \n",
      "2024-09-16         False  False  ...  False  False  False  False  False   \n",
      "2024-09-17         False  False  ...  False  False  False  False  False   \n",
      "2024-09-18         False  False  ...  False  False  False  False  False   \n",
      "2024-09-19         False  False  ...  False  False  False  False  False   \n",
      "2024-09-21         False  False  ...  False  False  False  False  False   \n",
      "\n",
      "rsi_crossed_above                                     \n",
      "ma_window                                             \n",
      "ma_window             66     70     73     76     80  \n",
      "Date                                                  \n",
      "2020-01-01         False  False  False  False  False  \n",
      "2020-01-02         False  False  False  False  False  \n",
      "2020-01-03         False  False  False  False  False  \n",
      "2020-01-04         False  False  False  False  False  \n",
      "2020-01-05         False  False  False  False  False  \n",
      "...                  ...    ...    ...    ...    ...  \n",
      "2024-09-16         False  False  False  False  False  \n",
      "2024-09-17         False  False  False  False  False  \n",
      "2024-09-18         False  False  False  False  False  \n",
      "2024-09-19         False  False  False  False  False  \n",
      "2024-09-21         False  False  False  False  False  \n",
      "\n",
      "[1725 rows x 100 columns]\n",
      "Start                         2020-01-01 00:00:00\n",
      "End                           2024-09-21 00:00:00\n",
      "Period                                       1725\n",
      "Start Value                                 100.0\n",
      "End Value                               212.95516\n",
      "Total Return [%]                        112.95516\n",
      "Benchmark Return [%]                    777.46644\n",
      "Max Gross Exposure [%]                       61.0\n",
      "Total Fees Paid                               0.0\n",
      "Max Drawdown [%]                         48.54579\n",
      "Max Drawdown Duration                  473.770492\n",
      "Total Trades                                 0.63\n",
      "Total Closed Trades                          0.02\n",
      "Total Open Trades                            0.61\n",
      "Open Trade PnL                         103.247925\n",
      "Win Rate [%]                                100.0\n",
      "Best Trade [%]                         453.009471\n",
      "Worst Trade [%]                         93.617556\n",
      "Avg Winning Trade [%]                  273.313514\n",
      "Avg Losing Trade [%]                          NaN\n",
      "Avg Winning Trade Duration                  338.0\n",
      "Avg Losing Trade Duration                     NaN\n",
      "Profit Factor                                 inf\n",
      "Expectancy                             485.361712\n",
      "Name: agg_func_mean, dtype: object\n",
      "rsi_crossed_above  rsi_crossed_below  ma_window  ma_window\n",
      "30.0               70.000000          20         50           0.152586\n",
      "                   74.444444          20         53           2.801803\n",
      "                   78.888889          20         56           0.094007\n",
      "                   83.333333          20         60           2.801803\n",
      "                   87.777778          20         63           2.801803\n",
      "                                                                ...   \n",
      "45.0               92.222222          50         66           5.739186\n",
      "                   96.666667          50         70           5.739186\n",
      "                   101.111111         50         73           0.066639\n",
      "                   105.555556         50         76           0.000000\n",
      "                   110.000000         50         80           0.000000\n",
      "Name: total_return, Length: 100, dtype: float64\n"
     ]
    },
    {
     "name": "stderr",
     "output_type": "stream",
     "text": [
      "c:\\Users\\gokub\\ex\\journey\\Lib\\site-packages\\vectorbt\\generic\\stats_builder.py:396: UserWarning:\n",
      "\n",
      "Metric 'sharpe_ratio' requires frequency to be set\n",
      "\n",
      "c:\\Users\\gokub\\ex\\journey\\Lib\\site-packages\\vectorbt\\generic\\stats_builder.py:396: UserWarning:\n",
      "\n",
      "Metric 'calmar_ratio' requires frequency to be set\n",
      "\n",
      "c:\\Users\\gokub\\ex\\journey\\Lib\\site-packages\\vectorbt\\generic\\stats_builder.py:396: UserWarning:\n",
      "\n",
      "Metric 'omega_ratio' requires frequency to be set\n",
      "\n",
      "c:\\Users\\gokub\\ex\\journey\\Lib\\site-packages\\vectorbt\\generic\\stats_builder.py:396: UserWarning:\n",
      "\n",
      "Metric 'sortino_ratio' requires frequency to be set\n",
      "\n",
      "C:\\Users\\gokub\\AppData\\Local\\Temp\\ipykernel_21860\\1268694397.py:59: UserWarning:\n",
      "\n",
      "Object has multiple columns. Aggregating using <function mean at 0x0000023017FA84A0>. Pass column to select a single column/group.\n",
      "\n"
     ]
    },
    {
     "data": {
      "application/vnd.plotly.v1+json": {
       "config": {
        "plotlyServerURL": "https://plot.ly"
       },
       "data": [
        {
         "colorscale": [
          [
           0,
           "#0d0887"
          ],
          [
           0.1111111111111111,
           "#46039f"
          ],
          [
           0.2222222222222222,
           "#7201a8"
          ],
          [
           0.3333333333333333,
           "#9c179e"
          ],
          [
           0.4444444444444444,
           "#bd3786"
          ],
          [
           0.5555555555555556,
           "#d8576b"
          ],
          [
           0.6666666666666666,
           "#ed7953"
          ],
          [
           0.7777777777777778,
           "#fb9f3a"
          ],
          [
           0.8888888888888888,
           "#fdca26"
          ],
          [
           1,
           "#f0f921"
          ]
         ],
         "hoverongaps": false,
         "type": "heatmap",
         "uid": "e7821f62-b709-444f-818f-5cdbcece8fd6",
         "x": [
          "(70.0, 50)",
          "(74.44444444444444, 53)",
          "(78.88888888888889, 56)",
          "(83.33333333333333, 60)",
          "(87.77777777777777, 63)",
          "(92.22222222222223, 66)",
          "(96.66666666666667, 70)",
          "(101.11111111111111, 73)",
          "(105.55555555555556, 76)",
          "(110.0, 80)"
         ],
         "y": [
          "(30.0, 20)",
          "(31.666666666666668, 23)",
          "(33.333333333333336, 26)",
          "(35.0, 30)",
          "(36.666666666666664, 33)",
          "(38.333333333333336, 36)",
          "(40.0, 40)",
          "(41.66666666666667, 43)",
          "(43.333333333333336, 46)",
          "(45.0, 50)"
         ],
         "z": [
          [
           0.1525863948816547,
           2.80180261709501,
           0.09400728961525744,
           2.80180261709501,
           2.80180261709501,
           0,
           0.023804461318810723,
           0,
           0,
           0.2490279672367734
          ],
          [
           0.10359504094167377,
           2.741815831305361,
           2.741815831305361,
           4.915183240137447,
           2.163737418361717,
           2.163737418361717,
           0,
           0.2490279672367734,
           0,
           0
          ],
          [
           0,
           0.09400728961525744,
           0,
           2.163737418361717,
           1.3233856406308595,
           0.44274543732291677,
           0.2490279672367734,
           0,
           0,
           0
          ],
          [
           5.050381084138714,
           4.915183240137447,
           1.3233856406308595,
           0,
           0,
           0.2490279672367734,
           0.25095272509696626,
           0,
           0,
           0.27990080085135477
          ],
          [
           0,
           1.8505350133090213,
           0,
           0,
           0.2490279672367734,
           0,
           0.0045997471521070565,
           0,
           0,
           1.95489748473347
          ],
          [
           1.1651083474292887,
           1.8505350133090213,
           0.44274543732291677,
           0.5914787317607787,
           0.5914787317607787,
           0.5914787317607787,
           1.95489748473347,
           0,
           0,
           0
          ],
          [
           0.44274543732291677,
           1.6109733066960195,
           0,
           1.3205666572833081,
           1.3205666572833081,
           1.95489748473347,
           0.11416990522167694,
           1.3862599807698806,
           0.11416990522167694,
           0.11416990522167694
          ],
          [
           1.6109733066960195,
           5.952459749442232,
           0,
           1.3862599807698806,
           0.27079551941115765,
           0.27079551941115765,
           0,
           0,
           0,
           0
          ],
          [
           10.486269453622615,
           2.8002291107385404,
           1.3645505131219198,
           0,
           0,
           0,
           0,
           0.0020484127480749235,
           0,
           5.739186146500713
          ],
          [
           0,
           0.11562617864693892,
           5.739186146500713,
           0,
           5.700984493112256,
           5.739186146500713,
           5.739186146500713,
           0.06663903430501633,
           0,
           0
          ]
         ]
        }
       ],
       "layout": {
        "height": 455,
        "legend": {
         "orientation": "h",
         "traceorder": "normal",
         "x": 1,
         "xanchor": "right",
         "y": 1.02,
         "yanchor": "bottom"
        },
        "margin": {
         "b": 30,
         "l": 30,
         "r": 30,
         "t": 30
        },
        "template": {
         "data": {
          "bar": [
           {
            "error_x": {
             "color": "#2a3f5f"
            },
            "error_y": {
             "color": "#2a3f5f"
            },
            "marker": {
             "line": {
              "color": "#E5ECF6",
              "width": 0.5
             }
            },
            "type": "bar"
           }
          ],
          "barpolar": [
           {
            "marker": {
             "line": {
              "color": "#E5ECF6",
              "width": 0.5
             }
            },
            "type": "barpolar"
           }
          ],
          "carpet": [
           {
            "aaxis": {
             "endlinecolor": "#2a3f5f",
             "gridcolor": "white",
             "linecolor": "white",
             "minorgridcolor": "white",
             "startlinecolor": "#2a3f5f"
            },
            "baxis": {
             "endlinecolor": "#2a3f5f",
             "gridcolor": "white",
             "linecolor": "white",
             "minorgridcolor": "white",
             "startlinecolor": "#2a3f5f"
            },
            "type": "carpet"
           }
          ],
          "choropleth": [
           {
            "colorbar": {
             "outlinewidth": 0,
             "ticks": ""
            },
            "type": "choropleth"
           }
          ],
          "contour": [
           {
            "colorbar": {
             "outlinewidth": 0,
             "ticks": ""
            },
            "colorscale": [
             [
              0,
              "#0d0887"
             ],
             [
              0.1111111111111111,
              "#46039f"
             ],
             [
              0.2222222222222222,
              "#7201a8"
             ],
             [
              0.3333333333333333,
              "#9c179e"
             ],
             [
              0.4444444444444444,
              "#bd3786"
             ],
             [
              0.5555555555555556,
              "#d8576b"
             ],
             [
              0.6666666666666666,
              "#ed7953"
             ],
             [
              0.7777777777777778,
              "#fb9f3a"
             ],
             [
              0.8888888888888888,
              "#fdca26"
             ],
             [
              1,
              "#f0f921"
             ]
            ],
            "type": "contour"
           }
          ],
          "contourcarpet": [
           {
            "colorbar": {
             "outlinewidth": 0,
             "ticks": ""
            },
            "type": "contourcarpet"
           }
          ],
          "heatmap": [
           {
            "colorbar": {
             "outlinewidth": 0,
             "ticks": ""
            },
            "colorscale": [
             [
              0,
              "#0d0887"
             ],
             [
              0.1111111111111111,
              "#46039f"
             ],
             [
              0.2222222222222222,
              "#7201a8"
             ],
             [
              0.3333333333333333,
              "#9c179e"
             ],
             [
              0.4444444444444444,
              "#bd3786"
             ],
             [
              0.5555555555555556,
              "#d8576b"
             ],
             [
              0.6666666666666666,
              "#ed7953"
             ],
             [
              0.7777777777777778,
              "#fb9f3a"
             ],
             [
              0.8888888888888888,
              "#fdca26"
             ],
             [
              1,
              "#f0f921"
             ]
            ],
            "type": "heatmap"
           }
          ],
          "heatmapgl": [
           {
            "colorbar": {
             "outlinewidth": 0,
             "ticks": ""
            },
            "colorscale": [
             [
              0,
              "#0d0887"
             ],
             [
              0.1111111111111111,
              "#46039f"
             ],
             [
              0.2222222222222222,
              "#7201a8"
             ],
             [
              0.3333333333333333,
              "#9c179e"
             ],
             [
              0.4444444444444444,
              "#bd3786"
             ],
             [
              0.5555555555555556,
              "#d8576b"
             ],
             [
              0.6666666666666666,
              "#ed7953"
             ],
             [
              0.7777777777777778,
              "#fb9f3a"
             ],
             [
              0.8888888888888888,
              "#fdca26"
             ],
             [
              1,
              "#f0f921"
             ]
            ],
            "type": "heatmapgl"
           }
          ],
          "histogram": [
           {
            "marker": {
             "colorbar": {
              "outlinewidth": 0,
              "ticks": ""
             }
            },
            "type": "histogram"
           }
          ],
          "histogram2d": [
           {
            "colorbar": {
             "outlinewidth": 0,
             "ticks": ""
            },
            "colorscale": [
             [
              0,
              "#0d0887"
             ],
             [
              0.1111111111111111,
              "#46039f"
             ],
             [
              0.2222222222222222,
              "#7201a8"
             ],
             [
              0.3333333333333333,
              "#9c179e"
             ],
             [
              0.4444444444444444,
              "#bd3786"
             ],
             [
              0.5555555555555556,
              "#d8576b"
             ],
             [
              0.6666666666666666,
              "#ed7953"
             ],
             [
              0.7777777777777778,
              "#fb9f3a"
             ],
             [
              0.8888888888888888,
              "#fdca26"
             ],
             [
              1,
              "#f0f921"
             ]
            ],
            "type": "histogram2d"
           }
          ],
          "histogram2dcontour": [
           {
            "colorbar": {
             "outlinewidth": 0,
             "ticks": ""
            },
            "colorscale": [
             [
              0,
              "#0d0887"
             ],
             [
              0.1111111111111111,
              "#46039f"
             ],
             [
              0.2222222222222222,
              "#7201a8"
             ],
             [
              0.3333333333333333,
              "#9c179e"
             ],
             [
              0.4444444444444444,
              "#bd3786"
             ],
             [
              0.5555555555555556,
              "#d8576b"
             ],
             [
              0.6666666666666666,
              "#ed7953"
             ],
             [
              0.7777777777777778,
              "#fb9f3a"
             ],
             [
              0.8888888888888888,
              "#fdca26"
             ],
             [
              1,
              "#f0f921"
             ]
            ],
            "type": "histogram2dcontour"
           }
          ],
          "mesh3d": [
           {
            "colorbar": {
             "outlinewidth": 0,
             "ticks": ""
            },
            "type": "mesh3d"
           }
          ],
          "parcoords": [
           {
            "line": {
             "colorbar": {
              "outlinewidth": 0,
              "ticks": ""
             }
            },
            "type": "parcoords"
           }
          ],
          "pie": [
           {
            "automargin": true,
            "type": "pie"
           }
          ],
          "scatter": [
           {
            "marker": {
             "colorbar": {
              "outlinewidth": 0,
              "ticks": ""
             }
            },
            "type": "scatter"
           }
          ],
          "scatter3d": [
           {
            "line": {
             "colorbar": {
              "outlinewidth": 0,
              "ticks": ""
             }
            },
            "marker": {
             "colorbar": {
              "outlinewidth": 0,
              "ticks": ""
             }
            },
            "type": "scatter3d"
           }
          ],
          "scattercarpet": [
           {
            "marker": {
             "colorbar": {
              "outlinewidth": 0,
              "ticks": ""
             }
            },
            "type": "scattercarpet"
           }
          ],
          "scattergeo": [
           {
            "marker": {
             "colorbar": {
              "outlinewidth": 0,
              "ticks": ""
             }
            },
            "type": "scattergeo"
           }
          ],
          "scattergl": [
           {
            "marker": {
             "colorbar": {
              "outlinewidth": 0,
              "ticks": ""
             }
            },
            "type": "scattergl"
           }
          ],
          "scattermapbox": [
           {
            "marker": {
             "colorbar": {
              "outlinewidth": 0,
              "ticks": ""
             }
            },
            "type": "scattermapbox"
           }
          ],
          "scatterpolar": [
           {
            "marker": {
             "colorbar": {
              "outlinewidth": 0,
              "ticks": ""
             }
            },
            "type": "scatterpolar"
           }
          ],
          "scatterpolargl": [
           {
            "marker": {
             "colorbar": {
              "outlinewidth": 0,
              "ticks": ""
             }
            },
            "type": "scatterpolargl"
           }
          ],
          "scatterternary": [
           {
            "marker": {
             "colorbar": {
              "outlinewidth": 0,
              "ticks": ""
             }
            },
            "type": "scatterternary"
           }
          ],
          "surface": [
           {
            "colorbar": {
             "outlinewidth": 0,
             "ticks": ""
            },
            "colorscale": [
             [
              0,
              "#0d0887"
             ],
             [
              0.1111111111111111,
              "#46039f"
             ],
             [
              0.2222222222222222,
              "#7201a8"
             ],
             [
              0.3333333333333333,
              "#9c179e"
             ],
             [
              0.4444444444444444,
              "#bd3786"
             ],
             [
              0.5555555555555556,
              "#d8576b"
             ],
             [
              0.6666666666666666,
              "#ed7953"
             ],
             [
              0.7777777777777778,
              "#fb9f3a"
             ],
             [
              0.8888888888888888,
              "#fdca26"
             ],
             [
              1,
              "#f0f921"
             ]
            ],
            "type": "surface"
           }
          ],
          "table": [
           {
            "cells": {
             "fill": {
              "color": "#EBF0F8"
             },
             "line": {
              "color": "white"
             }
            },
            "header": {
             "fill": {
              "color": "#C8D4E3"
             },
             "line": {
              "color": "white"
             }
            },
            "type": "table"
           }
          ]
         },
         "layout": {
          "annotationdefaults": {
           "arrowcolor": "#2a3f5f",
           "arrowhead": 0,
           "arrowwidth": 1
          },
          "coloraxis": {
           "colorbar": {
            "outlinewidth": 0,
            "ticks": ""
           }
          },
          "colorscale": {
           "diverging": [
            [
             0,
             "#8e0152"
            ],
            [
             0.1,
             "#c51b7d"
            ],
            [
             0.2,
             "#de77ae"
            ],
            [
             0.3,
             "#f1b6da"
            ],
            [
             0.4,
             "#fde0ef"
            ],
            [
             0.5,
             "#f7f7f7"
            ],
            [
             0.6,
             "#e6f5d0"
            ],
            [
             0.7,
             "#b8e186"
            ],
            [
             0.8,
             "#7fbc41"
            ],
            [
             0.9,
             "#4d9221"
            ],
            [
             1,
             "#276419"
            ]
           ],
           "sequential": [
            [
             0,
             "#0d0887"
            ],
            [
             0.1111111111111111,
             "#46039f"
            ],
            [
             0.2222222222222222,
             "#7201a8"
            ],
            [
             0.3333333333333333,
             "#9c179e"
            ],
            [
             0.4444444444444444,
             "#bd3786"
            ],
            [
             0.5555555555555556,
             "#d8576b"
            ],
            [
             0.6666666666666666,
             "#ed7953"
            ],
            [
             0.7777777777777778,
             "#fb9f3a"
            ],
            [
             0.8888888888888888,
             "#fdca26"
            ],
            [
             1,
             "#f0f921"
            ]
           ],
           "sequentialminus": [
            [
             0,
             "#0d0887"
            ],
            [
             0.1111111111111111,
             "#46039f"
            ],
            [
             0.2222222222222222,
             "#7201a8"
            ],
            [
             0.3333333333333333,
             "#9c179e"
            ],
            [
             0.4444444444444444,
             "#bd3786"
            ],
            [
             0.5555555555555556,
             "#d8576b"
            ],
            [
             0.6666666666666666,
             "#ed7953"
            ],
            [
             0.7777777777777778,
             "#fb9f3a"
            ],
            [
             0.8888888888888888,
             "#fdca26"
            ],
            [
             1,
             "#f0f921"
            ]
           ]
          },
          "colorway": [
           "#1f77b4",
           "#ff7f0e",
           "#2ca02c",
           "#dc3912",
           "#9467bd",
           "#8c564b",
           "#e377c2",
           "#7f7f7f",
           "#bcbd22",
           "#17becf"
          ],
          "font": {
           "color": "#2a3f5f"
          },
          "geo": {
           "bgcolor": "white",
           "lakecolor": "white",
           "landcolor": "#E5ECF6",
           "showlakes": true,
           "showland": true,
           "subunitcolor": "white"
          },
          "hoverlabel": {
           "align": "left"
          },
          "hovermode": "closest",
          "mapbox": {
           "style": "light"
          },
          "paper_bgcolor": "white",
          "plot_bgcolor": "#E5ECF6",
          "polar": {
           "angularaxis": {
            "gridcolor": "white",
            "linecolor": "white",
            "ticks": ""
           },
           "bgcolor": "#E5ECF6",
           "radialaxis": {
            "gridcolor": "white",
            "linecolor": "white",
            "ticks": ""
           }
          },
          "scene": {
           "xaxis": {
            "backgroundcolor": "#E5ECF6",
            "gridcolor": "white",
            "gridwidth": 2,
            "linecolor": "white",
            "showbackground": true,
            "ticks": "",
            "zerolinecolor": "white"
           },
           "yaxis": {
            "backgroundcolor": "#E5ECF6",
            "gridcolor": "white",
            "gridwidth": 2,
            "linecolor": "white",
            "showbackground": true,
            "ticks": "",
            "zerolinecolor": "white"
           },
           "zaxis": {
            "backgroundcolor": "#E5ECF6",
            "gridcolor": "white",
            "gridwidth": 2,
            "linecolor": "white",
            "showbackground": true,
            "ticks": "",
            "zerolinecolor": "white"
           }
          },
          "shapedefaults": {
           "line": {
            "color": "#2a3f5f"
           }
          },
          "ternary": {
           "aaxis": {
            "gridcolor": "white",
            "linecolor": "white",
            "ticks": ""
           },
           "baxis": {
            "gridcolor": "white",
            "linecolor": "white",
            "ticks": ""
           },
           "bgcolor": "#E5ECF6",
           "caxis": {
            "gridcolor": "white",
            "linecolor": "white",
            "ticks": ""
           }
          },
          "title": {
           "x": 0.05
          },
          "xaxis": {
           "automargin": true,
           "gridcolor": "white",
           "linecolor": "white",
           "ticks": "",
           "title": {
            "standoff": 15
           },
           "zerolinecolor": "white",
           "zerolinewidth": 2
          },
          "yaxis": {
           "automargin": true,
           "gridcolor": "white",
           "linecolor": "white",
           "ticks": "",
           "title": {
            "standoff": 15
           },
           "zerolinecolor": "white",
           "zerolinewidth": 2
          }
         }
        },
        "width": 605,
        "xaxis": {
         "title": {
          "text": "exit"
         }
        },
        "yaxis": {
         "title": {
          "text": "entry"
         }
        }
       }
      }
     },
     "metadata": {},
     "output_type": "display_data"
    }
   ],
   "source": [
    "import numpy as np\n",
    "import pandas as pd\n",
    "import vectorbt as vbt\n",
    "import yfinance as yf\n",
    "\n",
    "# Parameters\n",
    "num = 10\n",
    "metric1 = \"total_return\"\n",
    "metric2 = \"max_drawdown\"\n",
    "start = \"2020-01-01\"\n",
    "\n",
    "# Download TSLA data from Yahoo Finance\n",
    "df = yf.download(\"BTC-USD\", auto_adjust=True, start=start)\n",
    "df = df[['Close']]\n",
    "\n",
    "# Generate parameter arrays for moving averages entry/exit points\n",
    "arr1 = np.linspace(20, 50, num=num)\n",
    "arr2 = np.linspace(50, 80, num=num)\n",
    "\n",
    "short = list(arr1.astype('i'))\n",
    "long = list(arr2.astype('i'))\n",
    "\n",
    "# Create a mesh grid in order to simulate more MA combinations\n",
    "grid1 = np.array(np.meshgrid(short, long)).T.reshape(-1, 2)\n",
    "lst1 = [x[0] for x in grid1[:, [0]]]\n",
    "lst2 = [x[0] for x in grid1[:, [1]]]\n",
    "\n",
    "# Generate short-term and long-term moving averages for each combination\n",
    "short_ma = vbt.MA.run(df, lst1)\n",
    "long_ma = vbt.MA.run(df, lst2)\n",
    "\n",
    "# Generate RSI\n",
    "rsi = vbt.RSI.run(df)\n",
    "\n",
    "# Define entry and exit points for RSI\n",
    "entry_points = np.linspace(30, 45, num=num)\n",
    "exit_points = np.linspace(70, 110, num=num)\n",
    "\n",
    "# Create a mesh grid in order to simulate more RSI combinations\n",
    "grid2 = np.array(np.meshgrid(entry_points, exit_points)).T.reshape(-1, 2)\n",
    "\n",
    "# Creating rsi indicators\n",
    "rsi_buy_signal = rsi.rsi_crossed_above(list(grid2[:, [0]]))  \n",
    "rsi_sell_signal = rsi.rsi_crossed_below(list(grid2[:, [1]])) \n",
    "\n",
    "ma_buy_signal = short_ma.ma_crossed_below(long_ma)\n",
    "ma_sell_signal = short_ma.ma_crossed_below(long_ma)\n",
    "\n",
    "entries = rsi_buy_signal.vbt & ma_buy_signal\n",
    "exits = rsi_sell_signal.vbt & ma_sell_signal\n",
    "\n",
    "print(entries)\n",
    "\n",
    "# Build the portfolio using the combined signals\n",
    "pf = vbt.Portfolio.from_signals(df, entries, exits)\n",
    "\n",
    "# Display results\n",
    "print(pf.stats())\n",
    "\n",
    "# Get the performance metric\n",
    "pf_perf = pf.deep_getattr(metric1)\n",
    "print(pf_perf)\n",
    "\n",
    "pf_perf_matrix = pf_perf.vbt.unstack_to_df(index_levels = [\"rsi_crossed_above\", 2], \n",
    "                  column_levels = [\"rsi_crossed_below\", 3] )\n",
    "\n",
    "\n",
    "pf_perf_matrix.vbt.heatmap( \n",
    "    xaxis_title = \"exit\",\n",
    "    yaxis_title = \"entry\" ).show()\n"
   ]
  }
 ],
 "metadata": {
  "kernelspec": {
   "display_name": "journey",
   "language": "python",
   "name": "python3"
  },
  "language_info": {
   "codemirror_mode": {
    "name": "ipython",
    "version": 3
   },
   "file_extension": ".py",
   "mimetype": "text/x-python",
   "name": "python",
   "nbconvert_exporter": "python",
   "pygments_lexer": "ipython3",
   "version": "3.11.5"
  }
 },
 "nbformat": 4,
 "nbformat_minor": 2
}
